{
 "cells": [
  {
   "cell_type": "markdown",
   "metadata": {},
   "source": [
    "## Mojo ~ 2.9ms\n",
    "[Mojo](https://docs.modular.com/mojo/) is a relatively newcomer to the scientific computing scene, but is quickly gaining popularity.\n",
    "\n",
    "> Mojo codeblocks display as Python since markdown does not yet support Mojo highlighting.\n",
    "{: .prompt-info }\n",
    "\n",
    "First, we will need to import a variety of items from the standard library."
   ]
  },
  {
   "cell_type": "code",
   "execution_count": 1,
   "metadata": {},
   "outputs": [],
   "source": [
    "from tensor import Tensor, TensorSpec, TensorShape\n",
    "from utils.index import Index\n",
    "from random import rand\n",
    "from math import exp\n",
    "from benchmark import Report\n",
    "import benchmark\n",
    "\n",
    "alias data_type = DType.float32"
   ]
  },
  {
   "cell_type": "markdown",
   "metadata": {},
   "source": [
    "Now, we can rewrite our functions in Mojo. First, we start with the `random_spin_field`:"
   ]
  },
  {
   "cell_type": "code",
   "execution_count": 2,
   "metadata": {},
   "outputs": [],
   "source": [
    "fn random_spin_field(N: Int, M: Int) -> Tensor[data_type]:\n",
    "    var t = rand[data_type](N, M)\n",
    "    for i in range(N):\n",
    "        for j in range(M):\n",
    "            if t[Index(i, j)] < 0.5:\n",
    "                t[Index(i, j)] = -1\n",
    "            else:\n",
    "                t[Index(i, j)] = 1\n",
    "    return t"
   ]
  },
  {
   "cell_type": "markdown",
   "metadata": {},
   "source": [
    "Next, the internal `_ising_update` which takes the summation over the neighbors:"
   ]
  },
  {
   "cell_type": "code",
   "execution_count": 13,
   "metadata": {},
   "outputs": [],
   "source": [
    "fn _ising_update(inout field: Tensor[data_type], n: Int, m: Int, beta: Float32) -> None:\n",
    "    var total = SIMD[data_type, 1]()\n",
    "    var shape = field.shape()\n",
    "    var N = shape[0]\n",
    "    var M = shape[1]\n",
    "    for i in range(n - 1, n + 2):\n",
    "        for j in range(m - 1, m + 2):\n",
    "            if i == n and j == m:\n",
    "                continue\n",
    "            total += field[Index(i % N, j % M)]\n",
    "    var dE = 2 * field[Index(n, m)] * total\n",
    "    if dE <= 0:\n",
    "        field[Index(n, m)] *= -1\n",
    "    elif exp(-dE * beta) > rand[data_type](1)[Index(0)]:\n",
    "        field[Index(n, m)] *= -1"
   ]
  },
  {
   "cell_type": "markdown",
   "metadata": {},
   "source": [
    "Lastly, we can define the `ising_step`:"
   ]
  },
  {
   "cell_type": "code",
   "execution_count": 14,
   "metadata": {},
   "outputs": [],
   "source": [
    "fn ising_step(inout field: Tensor[data_type], beta: Float32 = 0.4) -> None:\n",
    "    var shape = field.shape()\n",
    "    var N = shape[0]\n",
    "    var M = shape[1]\n",
    "    for n_offset in range(2):\n",
    "        for m_offset in range(2):\n",
    "            for n in range(n_offset, N, 2):\n",
    "                for m in range(m_offset, M, 2):\n",
    "                    _ising_update(field=field, n=n, m=m, beta=beta)"
   ]
  },
  {
   "cell_type": "markdown",
   "metadata": {},
   "source": [
    "We can define a small benchmark function."
   ]
  },
  {
   "cell_type": "code",
   "execution_count": 17,
   "metadata": {},
   "outputs": [],
   "source": [
    "@always_inline\n",
    "fn bench() -> Report:\n",
    "    var N = 200\n",
    "    var M = 200\n",
    "    var field = random_spin_field(N, M)\n",
    "\n",
    "    @always_inline\n",
    "    @parameter\n",
    "    fn ising_step_fn():\n",
    "        ising_step(field=field)\n",
    "\n",
    "    return benchmark.run[ising_step_fn](max_runtime_secs=10)\n",
    "\n",
    "var report = bench()"
   ]
  },
  {
   "cell_type": "code",
   "execution_count": 18,
   "metadata": {},
   "outputs": [
    {
     "name": "stdout",
     "output_type": "stream",
     "text": [
      "---------------------\n",
      "Benchmark Report (ms)\n",
      "---------------------\n",
      "Mean: 2.915081212121212\n",
      "Total: 2404.942\n",
      "Iters: 825\n",
      "Warmup Mean: 2.508\n",
      "Warmup Total: 5.016\n",
      "Warmup Iters: 2\n",
      "Fastest Mean: 2.915081212121212\n",
      "Slowest Mean: 2.915081212121212\n",
      "\n"
     ]
    }
   ],
   "source": [
    "# Print a report in Milliseconds\n",
    "report.print(\"ms\")"
   ]
  },
  {
   "cell_type": "markdown",
   "metadata": {},
   "source": [
    "We see that Mojo runs a little bit slower than Numba without optimization."
   ]
  },
  {
   "cell_type": "code",
   "execution_count": 20,
   "metadata": {},
   "outputs": [
    {
     "name": "stdout",
     "output_type": "stream",
     "text": [
      "[NbConvertApp] Converting notebook ising_model_speed_2.ipynb to markdown\n",
      "[NbConvertApp] Writing 3067 bytes to ising_model_speed_2.md\n"
     ]
    }
   ],
   "source": [
    "%%python\n",
    "# A little magic to automatically write my blog :)\n",
    "import subprocess\n",
    "\n",
    "subprocess.run([\"jupyter\", \"nbconvert\", \"--to\", \"markdown\", \"ising_model_speed_2.ipynb\"])\n",
    "subprocess.run(\"sed -i'' -e 's/```mojo/```python/g' ising_model_speed_2.md\", shell=True)"
   ]
  }
 ],
 "metadata": {
  "kernelspec": {
   "display_name": "Mojo",
   "language": "mojo",
   "name": "mojo-jupyter-kernel"
  },
  "language_info": {
   "codemirror_mode": {
    "name": "mojo"
   },
   "file_extension": ".mojo",
   "mimetype": "text/x-mojo",
   "name": "mojo"
  }
 },
 "nbformat": 4,
 "nbformat_minor": 2
}
