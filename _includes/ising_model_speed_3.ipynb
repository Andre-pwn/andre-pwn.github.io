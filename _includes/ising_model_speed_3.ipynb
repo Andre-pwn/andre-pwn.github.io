{
 "cells": [
  {
   "cell_type": "markdown",
   "metadata": {},
   "source": [
    "## Julia ~ 3.2ms\n",
    "Lastly, we look at [Julia](https://docs.julialang.org/en/v1/)."
   ]
  },
  {
   "cell_type": "code",
   "execution_count": 1,
   "metadata": {},
   "outputs": [],
   "source": [
    "using BenchmarkTools"
   ]
  },
  {
   "cell_type": "code",
   "execution_count": 2,
   "metadata": {},
   "outputs": [
    {
     "data": {
      "text/plain": [
       "random_spin_field (generic function with 1 method)"
      ]
     },
     "metadata": {},
     "output_type": "display_data"
    }
   ],
   "source": [
    "function random_spin_field(N:: Integer, M:: Integer)::Matrix{Int8}\n",
    "    return rand([-1, 1], N, M)\n",
    "end"
   ]
  },
  {
   "cell_type": "code",
   "execution_count": 3,
   "metadata": {},
   "outputs": [
    {
     "data": {
      "text/plain": [
       "_ising_step (generic function with 1 method)"
      ]
     },
     "metadata": {},
     "output_type": "display_data"
    }
   ],
   "source": [
    "function _ising_step(field::Matrix{Int8}, n::Integer, m::Integer, beta::Float32)\n",
    "    total = 0\n",
    "    N, M = size(field)\n",
    "\n",
    "    # 1-indexed arrays cannot use the % trick from before.\n",
    "    nm1 = n - 1 == 0 ? N : n\n",
    "    np1 = n + 1 == N ? 1 : n\n",
    "    mm1 = m - 1 == 0 ? M : m\n",
    "    mp1 = m + 1 == M ? 1 : m\n",
    "\n",
    "    for i in [nm1, n, np1]\n",
    "        for j in [mm1, m, mp1]\n",
    "            if i == n && j == m\n",
    "                continue\n",
    "            end\n",
    "            total += field[i, j]\n",
    "        end\n",
    "    end\n",
    "    dE = 2 * field[n, m] * total\n",
    "    if dE <= 0\n",
    "        field[n, m] *= -1\n",
    "    elseif exp(-dE * beta) > rand()\n",
    "        field[n, m] *= -1\n",
    "    end\n",
    "end"
   ]
  },
  {
   "cell_type": "markdown",
   "metadata": {},
   "source": [
    "Also include the unrolled version"
   ]
  },
  {
   "cell_type": "code",
   "execution_count": 4,
   "metadata": {},
   "outputs": [
    {
     "data": {
      "text/plain": [
       "_ising_step_unrolled (generic function with 1 method)"
      ]
     },
     "metadata": {},
     "output_type": "display_data"
    }
   ],
   "source": [
    "function _ising_step_unrolled(field::Matrix{Int8}, n::Integer, m::Integer, beta::Float32)\n",
    "    total = 0\n",
    "    N, M = size(field)\n",
    "    nm1 = n - 1 == 0 ? N : n\n",
    "    np1 = n + 1 == N ? 1 : n\n",
    "    mm1 = m - 1 == 0 ? M : m\n",
    "    mp1 = m + 1 == M ? 1 : m\n",
    "    dE = (\n",
    "        2\n",
    "        * field[n, m]\n",
    "        * (\n",
    "            field[nm1, mm1]\n",
    "            + field[nm1, m]\n",
    "            + field[nm1, mp1]\n",
    "            + field[n, mm1]\n",
    "            + field[n, mp1]\n",
    "            + field[np1, mm1]\n",
    "            + field[np1, m]\n",
    "            + field[np1, mp1]\n",
    "        )\n",
    "    )\n",
    "    if dE <= 0\n",
    "        field[n, m] *= -1\n",
    "    elseif exp(-dE * beta) > rand()\n",
    "        field[n, m] *= -1\n",
    "    end\n",
    "end"
   ]
  },
  {
   "cell_type": "code",
   "execution_count": 5,
   "metadata": {},
   "outputs": [
    {
     "data": {
      "text/plain": [
       "ising_step (generic function with 1 method)"
      ]
     },
     "metadata": {},
     "output_type": "display_data"
    }
   ],
   "source": [
    "function ising_step(field::Matrix{Int8}, beta::Float32, func)::Matrix{Int8}\n",
    "    N, M = size(field)\n",
    "    for n_offset in 1:2\n",
    "        for m_offset in 1:2\n",
    "            for n in n_offset:2:N-1\n",
    "                for m in m_offset:2:M-1\n",
    "                    func(field, n, m, beta)\n",
    "                end\n",
    "            end\n",
    "        end\n",
    "    end\n",
    "    return field\n",
    "end"
   ]
  },
  {
   "cell_type": "code",
   "execution_count": 6,
   "metadata": {},
   "outputs": [
    {
     "name": "stdout",
     "output_type": "stream",
     "text": [
      "(200, 200)\n"
     ]
    }
   ],
   "source": [
    "N, M = 200, 200\n",
    "field = random_spin_field(N, M)\n",
    "ising_step(field, 0.04f0, _ising_step)\n",
    "println(size(field))"
   ]
  },
  {
   "cell_type": "code",
   "execution_count": 7,
   "metadata": {},
   "outputs": [
    {
     "name": "stdout",
     "output_type": "stream",
     "text": [
      "  3.282 ms (158404 allocations: 12.09 MiB)\n",
      "\n"
     ]
    }
   ],
   "source": [
    "@btime ising_step(field, 0.04f0, _ising_step)\n",
    "println(\"\")"
   ]
  },
  {
   "cell_type": "code",
   "execution_count": 8,
   "metadata": {},
   "outputs": [
    {
     "name": "stdout",
     "output_type": "stream",
     "text": [
      "  1.297 ms (0 allocations: 0 bytes)\n",
      "\n"
     ]
    }
   ],
   "source": [
    "@btime ising_step(field, 0.04f0, _ising_step_unrolled)\n",
    "println(\"\")"
   ]
  },
  {
   "cell_type": "markdown",
   "metadata": {},
   "source": [
    "Which runs around the speed of Mojo when using for-loops and around the speed of Numba when using unrolled."
   ]
  },
  {
   "cell_type": "code",
   "execution_count": 12,
   "metadata": {},
   "outputs": [
    {
     "name": "stderr",
     "output_type": "stream",
     "text": [
      "[NbConvertApp] Converting notebook ising_model_speed_3.ipynb to markdown\n"
     ]
    },
    {
     "name": "stderr",
     "output_type": "stream",
     "text": [
      "[NbConvertApp] Writing 2754 bytes to ising_model_speed_3.md\n"
     ]
    },
    {
     "data": {
      "text/plain": [
       "Process(`\u001b[4mjupyter\u001b[24m \u001b[4mnbconvert\u001b[24m \u001b[4m--to\u001b[24m \u001b[4mmarkdown\u001b[24m \u001b[4mising_model_speed_3.ipynb\u001b[24m`, ProcessExited(0))"
      ]
     },
     "metadata": {},
     "output_type": "display_data"
    }
   ],
   "source": [
    "run(`jupyter nbconvert --to markdown ising_model_speed_3.ipynb`)"
   ]
  }
 ],
 "metadata": {
  "kernelspec": {
   "display_name": "Julia 1.10.2",
   "language": "julia",
   "name": "julia-1.10"
  },
  "language_info": {
   "file_extension": ".jl",
   "mimetype": "application/julia",
   "name": "julia",
   "version": "1.10.2"
  }
 },
 "nbformat": 4,
 "nbformat_minor": 2
}
