{
 "cells": [
  {
   "cell_type": "markdown",
   "metadata": {},
   "source": [
    "## Julia ~ 850μs \n",
    "Lastly, we look at [Julia](https://docs.julialang.org/en/v1/), another member of the [LLVM](https://en.wikipedia.org/wiki/LLVM) family."
   ]
  },
  {
   "cell_type": "code",
   "execution_count": 1,
   "metadata": {},
   "outputs": [
    {
     "data": {
      "text/plain": [
       "random_spin_field (generic function with 1 method)"
      ]
     },
     "metadata": {},
     "output_type": "display_data"
    }
   ],
   "source": [
    "function random_spin_field(N:: Integer, M:: Integer)::Matrix{Int8}\n",
    "    return rand([-1, 1], N, M)\n",
    "end"
   ]
  },
  {
   "cell_type": "code",
   "execution_count": 2,
   "metadata": {},
   "outputs": [
    {
     "data": {
      "text/plain": [
       "ising_step (generic function with 1 method)"
      ]
     },
     "metadata": {},
     "output_type": "display_data"
    }
   ],
   "source": [
    "function ising_step(field::Matrix{Int8}, beta::Float32, func)::Matrix{Int8}\n",
    "    N, M = size(field)\n",
    "    for n_offset in 1:2\n",
    "        for m_offset in 1:2\n",
    "            for n in n_offset:2:N-1\n",
    "                for m in m_offset:2:M-1\n",
    "                    func(field, n, m, beta)\n",
    "                end\n",
    "            end\n",
    "        end\n",
    "    end\n",
    "    return field\n",
    "end"
   ]
  },
  {
   "cell_type": "markdown",
   "metadata": {},
   "source": [
    "Julia translates pretty closely from Python, just take note of 1-indexed arrays instead of 0-indexed arrays."
   ]
  },
  {
   "cell_type": "code",
   "execution_count": 22,
   "metadata": {},
   "outputs": [
    {
     "data": {
      "text/plain": [
       "_ising_step (generic function with 1 method)"
      ]
     },
     "metadata": {},
     "output_type": "display_data"
    }
   ],
   "source": [
    "function _ising_step(field::Matrix{Int8}, n::Integer, m::Integer, beta::Float32)\n",
    "    total = 0\n",
    "    N, M = size(field)\n",
    "    for i in n-1:n+1\n",
    "        for j in m-1:m+1\n",
    "            if i == n && j == m\n",
    "                continue\n",
    "            end\n",
    "            # Convert to 0-indexing\n",
    "            i -= 1\n",
    "            j -= 1\n",
    "            # Take the remainder and convert back to 1-indexing.\n",
    "            total += field[abs(i % N) + 1, abs(j % M) + 1]\n",
    "        end\n",
    "    end\n",
    "    dE = 2 * field[n, m] * total\n",
    "    if dE <= 0\n",
    "        field[n, m] *= -1\n",
    "    elseif exp(-dE * beta) > rand()\n",
    "        field[n, m] *= -1\n",
    "    end\n",
    "end"
   ]
  },
  {
   "cell_type": "code",
   "execution_count": 20,
   "metadata": {},
   "outputs": [
    {
     "name": "stdout",
     "output_type": "stream",
     "text": [
      "(200, 200)\n"
     ]
    }
   ],
   "source": [
    "N, M = 200, 200\n",
    "field = random_spin_field(N, M)\n",
    "ising_step(field, 0.04f0, _ising_step)\n",
    "println(size(field))"
   ]
  },
  {
   "cell_type": "code",
   "execution_count": 21,
   "metadata": {},
   "outputs": [
    {
     "name": "stdout",
     "output_type": "stream",
     "text": [
      "  853.750 μs (0 allocations: 0 bytes)\n",
      "\n"
     ]
    }
   ],
   "source": [
    "using BenchmarkTools\n",
    "@btime ising_step(field, 0.04f0, _ising_step)\n",
    "println(\"\")"
   ]
  },
  {
   "cell_type": "markdown",
   "metadata": {},
   "source": [
    "Which almost runs as fast as Cython"
   ]
  },
  {
   "cell_type": "code",
   "execution_count": 24,
   "metadata": {},
   "outputs": [
    {
     "name": "stderr",
     "output_type": "stream",
     "text": [
      "[NbConvertApp] Converting notebook ising_model_speed_3.ipynb to markdown\n"
     ]
    },
    {
     "name": "stderr",
     "output_type": "stream",
     "text": [
      "[NbConvertApp] Writing 1923 bytes to ising_model_speed_3.md\n"
     ]
    },
    {
     "data": {
      "text/plain": [
       "Process(`\u001b[4mjupyter\u001b[24m \u001b[4mnbconvert\u001b[24m \u001b[4m--to\u001b[24m \u001b[4mmarkdown\u001b[24m \u001b[4mising_model_speed_3.ipynb\u001b[24m`, ProcessExited(0))"
      ]
     },
     "metadata": {},
     "output_type": "display_data"
    }
   ],
   "source": [
    "run(`jupyter nbconvert --to markdown ising_model_speed_3.ipynb`)"
   ]
  }
 ],
 "metadata": {
  "kernelspec": {
   "display_name": "Julia 1.10.2",
   "language": "julia",
   "name": "julia-1.10"
  },
  "language_info": {
   "file_extension": ".jl",
   "mimetype": "application/julia",
   "name": "julia",
   "version": "1.10.2"
  }
 },
 "nbformat": 4,
 "nbformat_minor": 2
}
